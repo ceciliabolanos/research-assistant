{
 "cells": [
  {
   "cell_type": "code",
   "execution_count": 1,
   "metadata": {},
   "outputs": [
    {
     "name": "stderr",
     "output_type": "stream",
     "text": [
      "/home/juanw/.pyenv/versions/3.9.0/envs/my_project_env/lib/python3.9/site-packages/tqdm/auto.py:21: TqdmWarning: IProgress not found. Please update jupyter and ipywidgets. See https://ipywidgets.readthedocs.io/en/stable/user_install.html\n",
      "  from .autonotebook import tqdm as notebook_tqdm\n"
     ]
    }
   ],
   "source": [
    "import os, json\n",
    "from code_search import CodeSearcher\n",
    "from tokens import extract_code_snippets"
   ]
  },
  {
   "cell_type": "code",
   "execution_count": 2,
   "metadata": {},
   "outputs": [],
   "source": [
    "project_name = os.path.basename('https://github.com/microsoft/autogen')\n",
    "temp_dir = \"./autogen_output\"\n",
    "output_path_code = os.path.join(temp_dir, f'asd.json')"
   ]
  },
  {
   "cell_type": "code",
   "execution_count": 3,
   "metadata": {},
   "outputs": [],
   "source": [
    "searcher = CodeSearcher('unixcoder-ft.bin', code_snippets=[])"
   ]
  },
  {
   "cell_type": "code",
   "execution_count": 4,
   "metadata": {},
   "outputs": [],
   "source": [
    "data = {}    \n",
    "try:\n",
    "    with open(output_path_code, 'r', encoding='utf-8') as file:\n",
    "        data = json.load(file)\n",
    "except Exception as e:\n",
    "    print(f\"Error al leer el archivo JSON: {e}\")\n",
    "\n",
    "code_snippets = extract_code_snippets(data, searcher)\n",
    "\n",
    "new_output_path_code = './autogen_output/code_chunkeado.json' \n",
    "    \n",
    "\n",
    "\n"
   ]
  },
  {
   "cell_type": "code",
   "execution_count": 5,
   "metadata": {},
   "outputs": [],
   "source": [
    "def is_json_serializable(item):\n",
    "    try:\n",
    "        json.dumps(item)\n",
    "        return True\n",
    "    except (TypeError, OverflowError):\n",
    "        return False\n",
    "\n",
    "def find_non_serializable(data, path=''):\n",
    "    if isinstance(data, dict):\n",
    "        for k, v in data.items():\n",
    "            find_non_serializable(v, f\"{path}/{k}\")\n",
    "    elif isinstance(data, list):\n",
    "        for i, item in enumerate(data):\n",
    "            find_non_serializable(item, f\"{path}[{i}]\")\n",
    "    else:\n",
    "        if not is_json_serializable(data):\n",
    "            print(f\"Non-serializable item at path: {path} -> {data} ({type(data)})\")\n",
    "\n",
    "try:\n",
    "    find_non_serializable(data)\n",
    "    with open(new_output_path_code, 'w') as file:\n",
    "        json.dump(data, file, indent=4)\n",
    "except Exception as e:\n",
    "    print(f\"Error writing JSON file: {e}\")"
   ]
  }
 ],
 "metadata": {
  "kernelspec": {
   "display_name": "my_project_env",
   "language": "python",
   "name": "python3"
  },
  "language_info": {
   "codemirror_mode": {
    "name": "ipython",
    "version": 3
   },
   "file_extension": ".py",
   "mimetype": "text/x-python",
   "name": "python",
   "nbconvert_exporter": "python",
   "pygments_lexer": "ipython3",
   "version": "3.9.0"
  }
 },
 "nbformat": 4,
 "nbformat_minor": 2
}
