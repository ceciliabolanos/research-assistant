{
 "cells": [
  {
   "cell_type": "code",
   "execution_count": 3,
   "metadata": {},
   "outputs": [
    {
     "name": "stderr",
     "output_type": "stream",
     "text": [
      "Apr 25, 2024 3:59:33 PM org.grobid.core.main.GrobidHomeFinder getGrobidHomePathOrLoadFromClasspath\n",
      "WARNING: No Grobid property was provided. Attempting to find Grobid home in the current directory...\n",
      "Apr 25, 2024 3:59:33 PM org.grobid.core.main.GrobidHomeFinder findGrobidHomeOrFail\n",
      "WARNING: ***************************************************************\n",
      "Apr 25, 2024 3:59:33 PM org.grobid.core.main.GrobidHomeFinder findGrobidHomeOrFail\n",
      "WARNING: *** USING GROBID HOME: /home/chechu/Documents/proyects/research-assistant/grobid-0.7.2/grobid-home\n",
      "Apr 25, 2024 3:59:33 PM org.grobid.core.main.GrobidHomeFinder findGrobidHomeOrFail\n",
      "WARNING: ***************************************************************\n",
      "Apr 25, 2024 3:59:33 PM org.grobid.core.main.GrobidHomeFinder getGrobidHomePathOrLoadFromClasspath\n",
      "WARNING: No Grobid property was provided. Attempting to find Grobid home in the current directory...\n",
      "Apr 25, 2024 3:59:33 PM org.grobid.core.main.GrobidHomeFinder findGrobidHomeOrFail\n",
      "WARNING: ***************************************************************\n",
      "Apr 25, 2024 3:59:33 PM org.grobid.core.main.GrobidHomeFinder findGrobidHomeOrFail\n",
      "WARNING: *** USING GROBID HOME: /home/chechu/Documents/proyects/research-assistant/grobid-0.7.2/grobid-home\n",
      "Apr 25, 2024 3:59:33 PM org.grobid.core.main.GrobidHomeFinder findGrobidHomeOrFail\n",
      "WARNING: ***************************************************************\n",
      "Apr 25, 2024 3:59:33 PM org.grobid.core.main.GrobidHomeFinder findGrobidConfigOrFail\n",
      "WARNING: Grobid config file location was not explicitly set via 'org.grobid.config' system variable, defaulting to: /home/chechu/Documents/proyects/research-assistant/grobid-0.7.2/grobid-home/config/grobid.yaml\n",
      "Apr 25, 2024 3:59:33 PM org.grobid.core.engines.ProcessEngine processFullText\n",
      "WARNING: No files in directory: \n"
     ]
    },
    {
     "data": {
      "text/plain": [
       "\"Error reading XML file: [Errno 2] No such file or directory: './output/2107.04734.tei.xml'\""
      ]
     },
     "execution_count": 3,
     "metadata": {},
     "output_type": "execute_result"
    }
   ],
   "source": [
    "from pdf_to_json import convert_pdf_to_json\n",
    "import os\n",
    "\n",
    "path ='2107.04734.pdf'\n",
    "convert_pdf_to_json(path)"
   ]
  }
 ],
 "metadata": {
  "kernelspec": {
   "display_name": "Python 3",
   "language": "python",
   "name": "python3"
  },
  "language_info": {
   "codemirror_mode": {
    "name": "ipython",
    "version": 3
   },
   "file_extension": ".py",
   "mimetype": "text/x-python",
   "name": "python",
   "nbconvert_exporter": "python",
   "pygments_lexer": "ipython3",
   "version": "3.10.12"
  }
 },
 "nbformat": 4,
 "nbformat_minor": 2
}
